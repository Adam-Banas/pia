{
 "cells": [
  {
   "cell_type": "code",
   "execution_count": 2,
   "metadata": {},
   "outputs": [
    {
     "ename": "ModuleNotFoundError",
     "evalue": "No module named 'wallet'",
     "output_type": "error",
     "traceback": [
      "\u001b[0;31m---------------------------------------------------------------------------\u001b[0m",
      "\u001b[0;31mModuleNotFoundError\u001b[0m                       Traceback (most recent call last)",
      "\u001b[1;32m/home/adam/projects/python/pia/jupyter.ipynb Cell 1\u001b[0m line \u001b[0;36m5\n\u001b[1;32m      <a href='vscode-notebook-cell:/home/adam/projects/python/pia/jupyter.ipynb#W0sZmlsZQ%3D%3D?line=1'>2</a>\u001b[0m \u001b[39mimport\u001b[39;00m \u001b[39mpandas\u001b[39;00m \u001b[39mas\u001b[39;00m \u001b[39mpd\u001b[39;00m\n\u001b[1;32m      <a href='vscode-notebook-cell:/home/adam/projects/python/pia/jupyter.ipynb#W0sZmlsZQ%3D%3D?line=3'>4</a>\u001b[0m \u001b[39mfrom\u001b[39;00m \u001b[39mdata_source\u001b[39;00m \u001b[39mimport\u001b[39;00m Wig20\n\u001b[0;32m----> <a href='vscode-notebook-cell:/home/adam/projects/python/pia/jupyter.ipynb#W0sZmlsZQ%3D%3D?line=4'>5</a>\u001b[0m \u001b[39mfrom\u001b[39;00m \u001b[39mmodel\u001b[39;00m \u001b[39mimport\u001b[39;00m Wallet, wallet_statistics\n",
      "File \u001b[0;32m~/projects/python/pia/model/__init__.py:2\u001b[0m\n\u001b[1;32m      1\u001b[0m \u001b[39mfrom\u001b[39;00m \u001b[39m.\u001b[39;00m\u001b[39mwallet\u001b[39;00m \u001b[39mimport\u001b[39;00m Wallet\n\u001b[0;32m----> 2\u001b[0m \u001b[39mfrom\u001b[39;00m \u001b[39m.\u001b[39;00m\u001b[39mstats\u001b[39;00m \u001b[39mimport\u001b[39;00m wallet_statistics\n",
      "File \u001b[0;32m~/projects/python/pia/model/stats.py:1\u001b[0m\n\u001b[0;32m----> 1\u001b[0m \u001b[39mfrom\u001b[39;00m \u001b[39mwallet\u001b[39;00m \u001b[39mimport\u001b[39;00m Wallet\n\u001b[1;32m      2\u001b[0m \u001b[39mfrom\u001b[39;00m \u001b[39mdata_source\u001b[39;00m \u001b[39mimport\u001b[39;00m Wig20\n\u001b[1;32m      4\u001b[0m \u001b[39mimport\u001b[39;00m \u001b[39mpandas\u001b[39;00m \u001b[39mas\u001b[39;00m \u001b[39mpd\u001b[39;00m\n",
      "\u001b[0;31mModuleNotFoundError\u001b[0m: No module named 'wallet'"
     ]
    }
   ],
   "source": [
    "import matplotlib.pyplot as plt\n",
    "import pandas as pd\n",
    "\n",
    "from data_source import Wig20\n",
    "from model import Wallet, wallet_statistics"
   ]
  },
  {
   "cell_type": "code",
   "execution_count": null,
   "metadata": {},
   "outputs": [],
   "source": [
    "# config:\n",
    "years = 5\n",
    "\n",
    "# code:\n",
    "wallet = Wallet()\n",
    "wallet.add_asset(Wig20())\n",
    "gains = wallet.calc_gains(pd.DateOffset(months=60))\n",
    "\n",
    "gains.plot()\n",
    "plt.show()"
   ]
  },
  {
   "cell_type": "code",
   "execution_count": null,
   "metadata": {},
   "outputs": [],
   "source": [
    "stats_5y = wallet_statistics(wallet)['5y']\n",
    "\n",
    "print(f\"min return: {stats_5y.min_gain()}\")\n",
    "print(f\"max return: {stats_5y.max_gain()}\")\n",
    "print(f\"median return: {stats_5y.median_gain()}\")\n",
    "ppr = stats_5y.percent_positive_gains() * 100\n",
    "print(f\"positive returns: {ppr}%\")"
   ]
  }
 ],
 "metadata": {
  "kernelspec": {
   "display_name": "venv_pia",
   "language": "python",
   "name": "python3"
  },
  "language_info": {
   "codemirror_mode": {
    "name": "ipython",
    "version": 3
   },
   "file_extension": ".py",
   "mimetype": "text/x-python",
   "name": "python",
   "nbconvert_exporter": "python",
   "pygments_lexer": "ipython3",
   "version": "3.10.12"
  }
 },
 "nbformat": 4,
 "nbformat_minor": 2
}
