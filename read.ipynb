{
 "cells": [
  {
   "cell_type": "code",
   "execution_count": null,
   "metadata": {},
   "outputs": [],
   "source": [
    "print(\"abcs\")"
   ]
  },
  {
   "cell_type": "code",
   "execution_count": null,
   "metadata": {},
   "outputs": [],
   "source": [
    "import matplotlib.pyplot as plt\n",
    "import numpy as np\n",
    "\n",
    "x = np.linspace(0, 2*np.pi, 200)\n",
    "y = np.sin(x)\n",
    "\n",
    "fig, ax = plt.subplots()\n",
    "ax.plot(x,y)\n",
    "plt.show()"
   ]
  },
  {
   "cell_type": "code",
   "execution_count": null,
   "metadata": {},
   "outputs": [],
   "source": [
    "x = np.linspace(-30,30)\n",
    "a = -0.5\n",
    "b = 2\n",
    "c = 0\n",
    "y = a*x**2 + b*x + c\n",
    "\n",
    "fig2, ax2 = plt.subplots()\n",
    "ax2.plot(x,y)\n",
    "y = a*x +b*-10\n",
    "ax2.plot(x,y)\n",
    "plt.show()"
   ]
  },
  {
   "cell_type": "code",
   "execution_count": null,
   "metadata": {},
   "outputs": [],
   "source": [
    "import pandas as pd\n",
    "import matplotlib.pyplot as plt\n",
    "\n",
    "df = pd.read_excel(\"data_source/wig20_to_2023-11-06_indeksy.xls\")\n",
    "\n",
    "df.plot()\n",
    "plt.show()"
   ]
  },
  {
   "cell_type": "code",
   "execution_count": null,
   "metadata": {},
   "outputs": [],
   "source": [
    "df = pd.read_excel(\"data_source/wig20_to_2023-11-06_indeksy.xls\", index_col=0)\n",
    "\n",
    "df['Kurs otwarcia'].plot()\n",
    "plt.show()"
   ]
  },
  {
   "cell_type": "code",
   "execution_count": null,
   "metadata": {},
   "outputs": [],
   "source": [
    "import pandas as pd\n",
    "import matplotlib.pyplot as plt\n",
    "\n",
    "snp500 = pd.read_csv(\"data_source/SnP_500_Historical_Data.csv\", index_col=0)\n",
    "snp500 = snp500.iloc[::-1]\n",
    "snp500['Price '].plot()\n",
    "plt.yscale(\"log\")\n",
    "plt.show()"
   ]
  },
  {
   "cell_type": "code",
   "execution_count": null,
   "metadata": {},
   "outputs": [],
   "source": [
    "def best_gain(series, iterations):\n",
    "    best_gain = -1.\n",
    "    best_begin = 0\n",
    "    for i in range(len(series)-iterations):\n",
    "        gain = series.iloc[i+iterations]/series.iloc[i]\n",
    "        if gain > best_gain:\n",
    "            best_gain = gain\n",
    "            best_begin = i\n",
    "\n",
    "    return best_gain, best_begin\n",
    "\n",
    "def worst_gain(series, iterations):\n",
    "    worst_gain = 1000000.\n",
    "    worst_begin = 0\n",
    "    for i in range(len(series)-iterations):\n",
    "        gain = series.iloc[i+iterations]/series.iloc[i]\n",
    "        if gain < worst_gain:\n",
    "            worst_gain = gain\n",
    "            worst_begin = i\n",
    "\n",
    "    return worst_gain, worst_begin\n",
    "\n",
    "period = 360 # 30 years\n",
    "bg, bi = best_gain(snp500['Price '], period)\n",
    "wg, wi = worst_gain(snp500['Price '], period)\n",
    "\n",
    "print(f\"Best gain: {bg*100}%, worst: {wg*100}%\")"
   ]
  },
  {
   "cell_type": "code",
   "execution_count": null,
   "metadata": {},
   "outputs": [],
   "source": [
    "def calc_gains(series, iterations):\n",
    "    gains = []\n",
    "    for i in range(len(series)-iterations):\n",
    "        gains.append(series.iloc[i+iterations]*100/series.iloc[i])\n",
    "\n",
    "    return gains\n",
    "\n",
    "gains = calc_gains(snp500['Price '], period)\n",
    "\n",
    "plt.plot(range(len(gains)), gains)\n",
    "plt.show()"
   ]
  }
 ],
 "metadata": {
  "kernelspec": {
   "display_name": "Python 3",
   "language": "python",
   "name": "python3"
  },
  "language_info": {
   "codemirror_mode": {
    "name": "ipython",
    "version": 3
   },
   "file_extension": ".py",
   "mimetype": "text/x-python",
   "name": "python",
   "nbconvert_exporter": "python",
   "pygments_lexer": "ipython3",
   "version": "3.10.12"
  }
 },
 "nbformat": 4,
 "nbformat_minor": 2
}
